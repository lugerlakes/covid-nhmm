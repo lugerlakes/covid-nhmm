{
 "cells": [
  {
   "cell_type": "code",
   "execution_count": 1,
   "id": "0591c3b3",
   "metadata": {},
   "outputs": [],
   "source": [
    "import os\n",
    "os.environ[\"R_HOME\"] = r\"C:\\Program Files\\R\\R-4.5.0\"  # Change this path according to your R installation.\n",
    "\n",
    "import pandas as pd\n",
    "import matplotlib.pyplot as plt\n",
    "import matplotlib.patches as mpatches\n",
    "import matplotlib.dates as mdates\n",
    "\n",
    "import seaborn as sns\n",
    "import numpy as np\n",
    "from rpy2.robjects import r, pandas2ri\n",
    "from rpy2.robjects.packages import importr\n",
    "from rpy2.robjects.vectors import IntVector\n",
    "\n",
    "# Enable conversion between pandas and R\n",
    "pandas2ri.activate()\n",
    "\n",
    "# Load the R base package\n",
    "base = importr('base')\n",
    "# Load the package depmixS4\n",
    "depmixS4 = importr(\"depmixS4\")\n",
    "# Set the seed in R for reproducibility\n",
    "r('set.seed(2030)')\n",
    "# Set seed in Python for reproducibility\n",
    "np.random.seed(2030)"
   ]
  },
  {
   "cell_type": "code",
   "execution_count": 3,
   "id": "2a81c595",
   "metadata": {},
   "outputs": [],
   "source": [
    "from pymer4.models import Lmer"
   ]
  },
  {
   "cell_type": "code",
   "execution_count": 4,
   "id": "ffb6cd9f",
   "metadata": {},
   "outputs": [
    {
     "name": "stdout",
     "output_type": "stream",
     "text": [
      "\n",
      "R version 4.5.0 (2025-04-11 ucrt) -- \"How About a Twenty-Six\"\n",
      "Copyright (C) 2025 The R Foundation for Statistical Computing\n",
      "Platform: x86_64-w64-mingw32/x64\n",
      "\n",
      "R es un software libre y viene sin GARANTIA ALGUNA.\n",
      "Usted puede redistribuirlo bajo ciertas circunstancias.\n",
      "Escriba 'license()' o 'licence()' para detalles de distribucion.\n",
      "\n",
      "R es un proyecto colaborativo con muchos contribuyentes.\n",
      "Escriba 'contributors()' para obtener más información y\n",
      "'citation()' para saber cómo citar R o paquetes de R en publicaciones.\n",
      "\n",
      "Escriba 'demo()' para demostraciones, 'help()' para el sistema on-line de ayuda,\n",
      "o 'help.start()' para abrir el sistema de ayuda HTML con su navegador.\n",
      "Escriba 'q()' para salir de R.\n",
      "\n",
      "> install.packages('lmerTest', repos='http://cran.rstudio.com/')\n",
      "package 'numDeriv' successfully unpacked and MD5 sums checked\n",
      "package 'lmerTest' successfully unpacked and MD5 sums checked\n",
      "\n",
      "The downloaded binary packages are in\n",
      "\tC:\\Users\\ferna\\AppData\\Local\\Temp\\Rtmp8YFAgx\\downloaded_packages\n",
      "> \n"
     ]
    },
    {
     "name": "stderr",
     "output_type": "stream",
     "text": [
      "Installing package into 'C:/Users/ferna/AppData/Local/R/win-library/4.5'\n",
      "(as 'lib' is unspecified)\n",
      "also installing the dependency 'numDeriv'\n",
      "\n",
      "probando la URL 'http://cran.rstudio.com/bin/windows/contrib/4.5/numDeriv_2016.8-1.1.zip'\n",
      "probando la URL 'http://cran.rstudio.com/bin/windows/contrib/4.5/lmerTest_3.1-3.zip'\n"
     ]
    }
   ],
   "source": [
    "# Instalar lmerTest en R \n",
    "!R -e \"install.packages('lmerTest', repos='http://cran.rstudio.com/')\""
   ]
  },
  {
   "cell_type": "code",
   "execution_count": 5,
   "id": "256809fa",
   "metadata": {},
   "outputs": [
    {
     "ename": "NameError",
     "evalue": "name 'localconverter' is not defined",
     "output_type": "error",
     "traceback": [
      "\u001b[31m---------------------------------------------------------------------------\u001b[39m",
      "\u001b[31mNameError\u001b[39m                                 Traceback (most recent call last)",
      "\u001b[36mCell\u001b[39m\u001b[36m \u001b[39m\u001b[32mIn[5]\u001b[39m\u001b[32m, line 2\u001b[39m\n\u001b[32m      1\u001b[39m \u001b[38;5;66;03m# Verificar e importar lmerTest\u001b[39;00m\n\u001b[32m----> \u001b[39m\u001b[32m2\u001b[39m \u001b[38;5;28;01mwith\u001b[39;00m \u001b[43mlocalconverter\u001b[49m(default_converter + pandas2ri.converter):\n\u001b[32m      3\u001b[39m     \u001b[38;5;28;01mtry\u001b[39;00m:\n\u001b[32m      4\u001b[39m         lmerTest = importr(\u001b[33m'\u001b[39m\u001b[33mlmerTest\u001b[39m\u001b[33m'\u001b[39m)\n",
      "\u001b[31mNameError\u001b[39m: name 'localconverter' is not defined"
     ]
    }
   ],
   "source": [
    "# Verificar e importar lmerTest\n",
    "with localconverter(default_converter + pandas2ri.converter):\n",
    "    try:\n",
    "        lmerTest = importr('lmerTest')\n",
    "        print(\"El paquete lmerTest está instalado y cargado correctamente.\")\n",
    "    except Exception as e:\n",
    "        print(\"Error al cargar lmerTest:\", e)"
   ]
  },
  {
   "cell_type": "code",
   "execution_count": null,
   "id": "8b8202ab",
   "metadata": {},
   "outputs": [],
   "source": []
  }
 ],
 "metadata": {
  "kernelspec": {
   "display_name": "nhmm",
   "language": "python",
   "name": "python3"
  },
  "language_info": {
   "codemirror_mode": {
    "name": "ipython",
    "version": 3
   },
   "file_extension": ".py",
   "mimetype": "text/x-python",
   "name": "python",
   "nbconvert_exporter": "python",
   "pygments_lexer": "ipython3",
   "version": "3.11.7"
  }
 },
 "nbformat": 4,
 "nbformat_minor": 5
}
